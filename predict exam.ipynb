{
 "cells": [
  {
   "cell_type": "code",
   "execution_count": 5,
   "metadata": {},
   "outputs": [
    {
     "name": "stdout",
     "output_type": "stream",
     "text": [
      "The autoreload extension is already loaded. To reload it, use:\n",
      "  %reload_ext autoreload\n"
     ]
    }
   ],
   "source": [
    "%load_ext autoreload"
   ]
  },
  {
   "cell_type": "code",
   "execution_count": 6,
   "metadata": {},
   "outputs": [],
   "source": [
    "import pandas as pd\n",
    "import numpy as np\n",
    "from sklearn.feature_extraction.text import CountVectorizer\n",
    "from sklearn.feature_extraction.text import TfidfVectorizer\n",
    "from sklearn.ensemble import RandomForestClassifier\n",
    "from sklearn.model_selection import train_test_split\n",
    "from transformers import BertTokenizer, BertModel\n",
    "from scipy.sparse import csr_matrix\n",
    "from sklearn.metrics import accuracy_score\n",
    "import torch\n",
    "import os\n",
    "import seaborn as sns\n",
    "from torch.utils.data import DataLoader,TensorDataset\n",
    "import pickle\n",
    "import json\n",
    "from sklearn.ensemble import RandomForestClassifier, GradientBoostingClassifier\n",
    "from sklearn.neighbors import KNeighborsClassifier\n",
    "from sklearn.naive_bayes import MultinomialNB\n",
    "from sklearn.linear_model import LogisticRegression\n",
    "from sklearn.tree import DecisionTreeClassifier\n",
    "from sklearn.neural_network import MLPClassifier\n",
    "from sklearn.metrics import accuracy_score, f1_score\n",
    "from sae.preprocess import get_meta_info,get_freq_emmbeddings, get_tf_idfs_emmbeddings,get_bert_embeddings\n",
    "from sae.models import DEEPmodel_2\n",
    "import time\n",
    "import joblib\n",
    "%autoreload 2"
   ]
  },
  {
   "cell_type": "code",
   "execution_count": 7,
   "metadata": {},
   "outputs": [
    {
     "data": {
      "text/html": [
       "<div>\n",
       "<style scoped>\n",
       "    .dataframe tbody tr th:only-of-type {\n",
       "        vertical-align: middle;\n",
       "    }\n",
       "\n",
       "    .dataframe tbody tr th {\n",
       "        vertical-align: top;\n",
       "    }\n",
       "\n",
       "    .dataframe thead th {\n",
       "        text-align: right;\n",
       "    }\n",
       "</style>\n",
       "<table border=\"1\" class=\"dataframe\">\n",
       "  <thead>\n",
       "    <tr style=\"text-align: right;\">\n",
       "      <th></th>\n",
       "      <th>Id</th>\n",
       "      <th>Titre</th>\n",
       "      <th>Prix</th>\n",
       "      <th>User_id</th>\n",
       "      <th>Nom lecteur</th>\n",
       "      <th>revue/utilité</th>\n",
       "      <th>revue/score</th>\n",
       "      <th>revue/heure</th>\n",
       "      <th>revue/résumé</th>\n",
       "      <th>revue/texte</th>\n",
       "      <th>Description</th>\n",
       "      <th>Auteurs</th>\n",
       "      <th>Image</th>\n",
       "      <th>Lien Google</th>\n",
       "      <th>Editeur</th>\n",
       "      <th>Date publication</th>\n",
       "      <th>infoLink</th>\n",
       "      <th>Genre</th>\n",
       "      <th>Nb scores</th>\n",
       "    </tr>\n",
       "  </thead>\n",
       "  <tbody>\n",
       "    <tr>\n",
       "      <th>0</th>\n",
       "      <td>B00007FYF3</td>\n",
       "      <td>Visual Basic 6 Master Reference</td>\n",
       "      <td>NaN</td>\n",
       "      <td>A2IVAIN746RPZX</td>\n",
       "      <td>Robert J. McCorkle</td>\n",
       "      <td>7/7</td>\n",
       "      <td>4.0</td>\n",
       "      <td>959385600</td>\n",
       "      <td>Good as far as it goes</td>\n",
       "      <td>The other reviews sum up the book nicely. It i...</td>\n",
       "      <td>Visual Basic 6 Master Reference includes expla...</td>\n",
       "      <td>['Clayton Walnum']</td>\n",
       "      <td>http://books.google.com/books/content?id=pFcHA...</td>\n",
       "      <td>http://books.google.nl/books?id=pFcHAAAACAAJ&amp;d...</td>\n",
       "      <td>Wiley</td>\n",
       "      <td>03/03/1999</td>\n",
       "      <td>http://books.google.nl/books?id=pFcHAAAACAAJ&amp;d...</td>\n",
       "      <td>['Computers']</td>\n",
       "      <td>NaN</td>\n",
       "    </tr>\n",
       "    <tr>\n",
       "      <th>1</th>\n",
       "      <td>B00007FYF3</td>\n",
       "      <td>Visual Basic 6 Master Reference</td>\n",
       "      <td>NaN</td>\n",
       "      <td>NaN</td>\n",
       "      <td>NaN</td>\n",
       "      <td>4/4</td>\n",
       "      <td>4.0</td>\n",
       "      <td>948931200</td>\n",
       "      <td>I saw this in the bookstore and...</td>\n",
       "      <td>I saw this book at the local bookstore and hav...</td>\n",
       "      <td>Visual Basic 6 Master Reference includes expla...</td>\n",
       "      <td>['Clayton Walnum']</td>\n",
       "      <td>http://books.google.com/books/content?id=pFcHA...</td>\n",
       "      <td>http://books.google.nl/books?id=pFcHAAAACAAJ&amp;d...</td>\n",
       "      <td>Wiley</td>\n",
       "      <td>03/03/1999</td>\n",
       "      <td>http://books.google.nl/books?id=pFcHAAAACAAJ&amp;d...</td>\n",
       "      <td>['Computers']</td>\n",
       "      <td>NaN</td>\n",
       "    </tr>\n",
       "    <tr>\n",
       "      <th>2</th>\n",
       "      <td>B00007FYF3</td>\n",
       "      <td>Visual Basic 6 Master Reference</td>\n",
       "      <td>NaN</td>\n",
       "      <td>A2VK2INRPZQI1S</td>\n",
       "      <td>Steve Mazer</td>\n",
       "      <td>2/2</td>\n",
       "      <td>4.0</td>\n",
       "      <td>953251200</td>\n",
       "      <td>Exactly what I was looking for</td>\n",
       "      <td>This book is exactly what I was looking for. I...</td>\n",
       "      <td>Visual Basic 6 Master Reference includes expla...</td>\n",
       "      <td>['Clayton Walnum']</td>\n",
       "      <td>http://books.google.com/books/content?id=pFcHA...</td>\n",
       "      <td>http://books.google.nl/books?id=pFcHAAAACAAJ&amp;d...</td>\n",
       "      <td>Wiley</td>\n",
       "      <td>03/03/1999</td>\n",
       "      <td>http://books.google.nl/books?id=pFcHAAAACAAJ&amp;d...</td>\n",
       "      <td>['Computers']</td>\n",
       "      <td>NaN</td>\n",
       "    </tr>\n",
       "    <tr>\n",
       "      <th>3</th>\n",
       "      <td>B00007FYF3</td>\n",
       "      <td>Visual Basic 6 Master Reference</td>\n",
       "      <td>NaN</td>\n",
       "      <td>NaN</td>\n",
       "      <td>NaN</td>\n",
       "      <td>2/2</td>\n",
       "      <td>4.0</td>\n",
       "      <td>935625600</td>\n",
       "      <td>Great reference, but that's all.</td>\n",
       "      <td>As a student I find the Complete Reference a u...</td>\n",
       "      <td>Visual Basic 6 Master Reference includes expla...</td>\n",
       "      <td>['Clayton Walnum']</td>\n",
       "      <td>http://books.google.com/books/content?id=pFcHA...</td>\n",
       "      <td>http://books.google.nl/books?id=pFcHAAAACAAJ&amp;d...</td>\n",
       "      <td>Wiley</td>\n",
       "      <td>03/03/1999</td>\n",
       "      <td>http://books.google.nl/books?id=pFcHAAAACAAJ&amp;d...</td>\n",
       "      <td>['Computers']</td>\n",
       "      <td>NaN</td>\n",
       "    </tr>\n",
       "    <tr>\n",
       "      <th>4</th>\n",
       "      <td>B00007FYF3</td>\n",
       "      <td>Visual Basic 6 Master Reference</td>\n",
       "      <td>NaN</td>\n",
       "      <td>NaN</td>\n",
       "      <td>NaN</td>\n",
       "      <td>2/2</td>\n",
       "      <td>2.0</td>\n",
       "      <td>922492800</td>\n",
       "      <td>Not very complete. Too many ActiveX controls m...</td>\n",
       "      <td>Don't believe the book's cover. The reference ...</td>\n",
       "      <td>Visual Basic 6 Master Reference includes expla...</td>\n",
       "      <td>['Clayton Walnum']</td>\n",
       "      <td>http://books.google.com/books/content?id=pFcHA...</td>\n",
       "      <td>http://books.google.nl/books?id=pFcHAAAACAAJ&amp;d...</td>\n",
       "      <td>Wiley</td>\n",
       "      <td>03/03/1999</td>\n",
       "      <td>http://books.google.nl/books?id=pFcHAAAACAAJ&amp;d...</td>\n",
       "      <td>['Computers']</td>\n",
       "      <td>NaN</td>\n",
       "    </tr>\n",
       "    <tr>\n",
       "      <th>...</th>\n",
       "      <td>...</td>\n",
       "      <td>...</td>\n",
       "      <td>...</td>\n",
       "      <td>...</td>\n",
       "      <td>...</td>\n",
       "      <td>...</td>\n",
       "      <td>...</td>\n",
       "      <td>...</td>\n",
       "      <td>...</td>\n",
       "      <td>...</td>\n",
       "      <td>...</td>\n",
       "      <td>...</td>\n",
       "      <td>...</td>\n",
       "      <td>...</td>\n",
       "      <td>...</td>\n",
       "      <td>...</td>\n",
       "      <td>...</td>\n",
       "      <td>...</td>\n",
       "      <td>...</td>\n",
       "    </tr>\n",
       "    <tr>\n",
       "      <th>1205</th>\n",
       "      <td>0060982020</td>\n",
       "      <td>You've Got to Read This: Contemporary American...</td>\n",
       "      <td>NaN</td>\n",
       "      <td>A13A9TDQ1UCV3S</td>\n",
       "      <td>Kenny A. Chaffin \"Seeking Beginner's Mind\"</td>\n",
       "      <td>0/0</td>\n",
       "      <td>5.0</td>\n",
       "      <td>1319241600</td>\n",
       "      <td>Wonderful!</td>\n",
       "      <td>Incredible selection of stories. Highly recomm...</td>\n",
       "      <td>\"An exciting new anthology of short fiction ch...</td>\n",
       "      <td>['Ron Hansen', 'Jim Shepard']</td>\n",
       "      <td>http://books.google.com/books/content?id=7XAbA...</td>\n",
       "      <td>http://books.google.nl/books?id=7XAbAQAAIAAJ&amp;q...</td>\n",
       "      <td>Harper Perennial</td>\n",
       "      <td>1994</td>\n",
       "      <td>http://books.google.nl/books?id=7XAbAQAAIAAJ&amp;d...</td>\n",
       "      <td>['Short stories']</td>\n",
       "      <td>NaN</td>\n",
       "    </tr>\n",
       "    <tr>\n",
       "      <th>1206</th>\n",
       "      <td>0060982020</td>\n",
       "      <td>You've Got to Read This: Contemporary American...</td>\n",
       "      <td>NaN</td>\n",
       "      <td>A1H78PWTJNTZ83</td>\n",
       "      <td>Paul \"Pablo\"</td>\n",
       "      <td>0/0</td>\n",
       "      <td>4.0</td>\n",
       "      <td>1154044800</td>\n",
       "      <td>Excellent Variety, Neat Format</td>\n",
       "      <td>This was a textbook for an online course I too...</td>\n",
       "      <td>\"An exciting new anthology of short fiction ch...</td>\n",
       "      <td>['Ron Hansen', 'Jim Shepard']</td>\n",
       "      <td>http://books.google.com/books/content?id=7XAbA...</td>\n",
       "      <td>http://books.google.nl/books?id=7XAbAQAAIAAJ&amp;q...</td>\n",
       "      <td>Harper Perennial</td>\n",
       "      <td>1994</td>\n",
       "      <td>http://books.google.nl/books?id=7XAbAQAAIAAJ&amp;d...</td>\n",
       "      <td>['Short stories']</td>\n",
       "      <td>NaN</td>\n",
       "    </tr>\n",
       "    <tr>\n",
       "      <th>1207</th>\n",
       "      <td>0060982020</td>\n",
       "      <td>You've Got to Read This: Contemporary American...</td>\n",
       "      <td>NaN</td>\n",
       "      <td>NaN</td>\n",
       "      <td>NaN</td>\n",
       "      <td>0/0</td>\n",
       "      <td>4.0</td>\n",
       "      <td>876441600</td>\n",
       "      <td>Sometimes it makes me wonder...</td>\n",
       "      <td>The concept of this book really interests me. ...</td>\n",
       "      <td>\"An exciting new anthology of short fiction ch...</td>\n",
       "      <td>['Ron Hansen', 'Jim Shepard']</td>\n",
       "      <td>http://books.google.com/books/content?id=7XAbA...</td>\n",
       "      <td>http://books.google.nl/books?id=7XAbAQAAIAAJ&amp;q...</td>\n",
       "      <td>Harper Perennial</td>\n",
       "      <td>1994</td>\n",
       "      <td>http://books.google.nl/books?id=7XAbAQAAIAAJ&amp;d...</td>\n",
       "      <td>['Short stories']</td>\n",
       "      <td>NaN</td>\n",
       "    </tr>\n",
       "    <tr>\n",
       "      <th>1208</th>\n",
       "      <td>0060982020</td>\n",
       "      <td>You've Got to Read This: Contemporary American...</td>\n",
       "      <td>NaN</td>\n",
       "      <td>NaN</td>\n",
       "      <td>NaN</td>\n",
       "      <td>5/8</td>\n",
       "      <td>5.0</td>\n",
       "      <td>916012800</td>\n",
       "      <td>Great Way to Rediscover Authors</td>\n",
       "      <td>I really enjoyed this book. Even if I disliked...</td>\n",
       "      <td>\"An exciting new anthology of short fiction ch...</td>\n",
       "      <td>['Ron Hansen', 'Jim Shepard']</td>\n",
       "      <td>http://books.google.com/books/content?id=7XAbA...</td>\n",
       "      <td>http://books.google.nl/books?id=7XAbAQAAIAAJ&amp;q...</td>\n",
       "      <td>Harper Perennial</td>\n",
       "      <td>1994</td>\n",
       "      <td>http://books.google.nl/books?id=7XAbAQAAIAAJ&amp;d...</td>\n",
       "      <td>['Short stories']</td>\n",
       "      <td>NaN</td>\n",
       "    </tr>\n",
       "    <tr>\n",
       "      <th>1209</th>\n",
       "      <td>0060982020</td>\n",
       "      <td>You've Got to Read This: Contemporary American...</td>\n",
       "      <td>NaN</td>\n",
       "      <td>A2FQFSCTWMSJAO</td>\n",
       "      <td>Thomas L. Jenkins</td>\n",
       "      <td>1/5</td>\n",
       "      <td>4.0</td>\n",
       "      <td>1140825600</td>\n",
       "      <td>You don't really have to read this.</td>\n",
       "      <td>A collection of short stories that have been s...</td>\n",
       "      <td>\"An exciting new anthology of short fiction ch...</td>\n",
       "      <td>['Ron Hansen', 'Jim Shepard']</td>\n",
       "      <td>http://books.google.com/books/content?id=7XAbA...</td>\n",
       "      <td>http://books.google.nl/books?id=7XAbAQAAIAAJ&amp;q...</td>\n",
       "      <td>Harper Perennial</td>\n",
       "      <td>1994</td>\n",
       "      <td>http://books.google.nl/books?id=7XAbAQAAIAAJ&amp;d...</td>\n",
       "      <td>['Short stories']</td>\n",
       "      <td>NaN</td>\n",
       "    </tr>\n",
       "  </tbody>\n",
       "</table>\n",
       "<p>1210 rows × 19 columns</p>\n",
       "</div>"
      ],
      "text/plain": [
       "              Id                                              Titre  Prix  \\\n",
       "0     B00007FYF3                    Visual Basic 6 Master Reference   NaN   \n",
       "1     B00007FYF3                    Visual Basic 6 Master Reference   NaN   \n",
       "2     B00007FYF3                    Visual Basic 6 Master Reference   NaN   \n",
       "3     B00007FYF3                    Visual Basic 6 Master Reference   NaN   \n",
       "4     B00007FYF3                    Visual Basic 6 Master Reference   NaN   \n",
       "...          ...                                                ...   ...   \n",
       "1205  0060982020  You've Got to Read This: Contemporary American...   NaN   \n",
       "1206  0060982020  You've Got to Read This: Contemporary American...   NaN   \n",
       "1207  0060982020  You've Got to Read This: Contemporary American...   NaN   \n",
       "1208  0060982020  You've Got to Read This: Contemporary American...   NaN   \n",
       "1209  0060982020  You've Got to Read This: Contemporary American...   NaN   \n",
       "\n",
       "             User_id                                 Nom lecteur  \\\n",
       "0     A2IVAIN746RPZX                          Robert J. McCorkle   \n",
       "1                NaN                                         NaN   \n",
       "2     A2VK2INRPZQI1S                                 Steve Mazer   \n",
       "3                NaN                                         NaN   \n",
       "4                NaN                                         NaN   \n",
       "...              ...                                         ...   \n",
       "1205  A13A9TDQ1UCV3S  Kenny A. Chaffin \"Seeking Beginner's Mind\"   \n",
       "1206  A1H78PWTJNTZ83                                Paul \"Pablo\"   \n",
       "1207             NaN                                         NaN   \n",
       "1208             NaN                                         NaN   \n",
       "1209  A2FQFSCTWMSJAO                           Thomas L. Jenkins   \n",
       "\n",
       "     revue/utilité  revue/score  revue/heure  \\\n",
       "0              7/7          4.0    959385600   \n",
       "1              4/4          4.0    948931200   \n",
       "2              2/2          4.0    953251200   \n",
       "3              2/2          4.0    935625600   \n",
       "4              2/2          2.0    922492800   \n",
       "...            ...          ...          ...   \n",
       "1205           0/0          5.0   1319241600   \n",
       "1206           0/0          4.0   1154044800   \n",
       "1207           0/0          4.0    876441600   \n",
       "1208           5/8          5.0    916012800   \n",
       "1209           1/5          4.0   1140825600   \n",
       "\n",
       "                                           revue/résumé  \\\n",
       "0                                Good as far as it goes   \n",
       "1                    I saw this in the bookstore and...   \n",
       "2                        Exactly what I was looking for   \n",
       "3                      Great reference, but that's all.   \n",
       "4     Not very complete. Too many ActiveX controls m...   \n",
       "...                                                 ...   \n",
       "1205                                         Wonderful!   \n",
       "1206                     Excellent Variety, Neat Format   \n",
       "1207                    Sometimes it makes me wonder...   \n",
       "1208                    Great Way to Rediscover Authors   \n",
       "1209                You don't really have to read this.   \n",
       "\n",
       "                                            revue/texte  \\\n",
       "0     The other reviews sum up the book nicely. It i...   \n",
       "1     I saw this book at the local bookstore and hav...   \n",
       "2     This book is exactly what I was looking for. I...   \n",
       "3     As a student I find the Complete Reference a u...   \n",
       "4     Don't believe the book's cover. The reference ...   \n",
       "...                                                 ...   \n",
       "1205  Incredible selection of stories. Highly recomm...   \n",
       "1206  This was a textbook for an online course I too...   \n",
       "1207  The concept of this book really interests me. ...   \n",
       "1208  I really enjoyed this book. Even if I disliked...   \n",
       "1209  A collection of short stories that have been s...   \n",
       "\n",
       "                                            Description  \\\n",
       "0     Visual Basic 6 Master Reference includes expla...   \n",
       "1     Visual Basic 6 Master Reference includes expla...   \n",
       "2     Visual Basic 6 Master Reference includes expla...   \n",
       "3     Visual Basic 6 Master Reference includes expla...   \n",
       "4     Visual Basic 6 Master Reference includes expla...   \n",
       "...                                                 ...   \n",
       "1205  \"An exciting new anthology of short fiction ch...   \n",
       "1206  \"An exciting new anthology of short fiction ch...   \n",
       "1207  \"An exciting new anthology of short fiction ch...   \n",
       "1208  \"An exciting new anthology of short fiction ch...   \n",
       "1209  \"An exciting new anthology of short fiction ch...   \n",
       "\n",
       "                            Auteurs  \\\n",
       "0                ['Clayton Walnum']   \n",
       "1                ['Clayton Walnum']   \n",
       "2                ['Clayton Walnum']   \n",
       "3                ['Clayton Walnum']   \n",
       "4                ['Clayton Walnum']   \n",
       "...                             ...   \n",
       "1205  ['Ron Hansen', 'Jim Shepard']   \n",
       "1206  ['Ron Hansen', 'Jim Shepard']   \n",
       "1207  ['Ron Hansen', 'Jim Shepard']   \n",
       "1208  ['Ron Hansen', 'Jim Shepard']   \n",
       "1209  ['Ron Hansen', 'Jim Shepard']   \n",
       "\n",
       "                                                  Image  \\\n",
       "0     http://books.google.com/books/content?id=pFcHA...   \n",
       "1     http://books.google.com/books/content?id=pFcHA...   \n",
       "2     http://books.google.com/books/content?id=pFcHA...   \n",
       "3     http://books.google.com/books/content?id=pFcHA...   \n",
       "4     http://books.google.com/books/content?id=pFcHA...   \n",
       "...                                                 ...   \n",
       "1205  http://books.google.com/books/content?id=7XAbA...   \n",
       "1206  http://books.google.com/books/content?id=7XAbA...   \n",
       "1207  http://books.google.com/books/content?id=7XAbA...   \n",
       "1208  http://books.google.com/books/content?id=7XAbA...   \n",
       "1209  http://books.google.com/books/content?id=7XAbA...   \n",
       "\n",
       "                                            Lien Google           Editeur  \\\n",
       "0     http://books.google.nl/books?id=pFcHAAAACAAJ&d...             Wiley   \n",
       "1     http://books.google.nl/books?id=pFcHAAAACAAJ&d...             Wiley   \n",
       "2     http://books.google.nl/books?id=pFcHAAAACAAJ&d...             Wiley   \n",
       "3     http://books.google.nl/books?id=pFcHAAAACAAJ&d...             Wiley   \n",
       "4     http://books.google.nl/books?id=pFcHAAAACAAJ&d...             Wiley   \n",
       "...                                                 ...               ...   \n",
       "1205  http://books.google.nl/books?id=7XAbAQAAIAAJ&q...  Harper Perennial   \n",
       "1206  http://books.google.nl/books?id=7XAbAQAAIAAJ&q...  Harper Perennial   \n",
       "1207  http://books.google.nl/books?id=7XAbAQAAIAAJ&q...  Harper Perennial   \n",
       "1208  http://books.google.nl/books?id=7XAbAQAAIAAJ&q...  Harper Perennial   \n",
       "1209  http://books.google.nl/books?id=7XAbAQAAIAAJ&q...  Harper Perennial   \n",
       "\n",
       "     Date publication                                           infoLink  \\\n",
       "0          03/03/1999  http://books.google.nl/books?id=pFcHAAAACAAJ&d...   \n",
       "1          03/03/1999  http://books.google.nl/books?id=pFcHAAAACAAJ&d...   \n",
       "2          03/03/1999  http://books.google.nl/books?id=pFcHAAAACAAJ&d...   \n",
       "3          03/03/1999  http://books.google.nl/books?id=pFcHAAAACAAJ&d...   \n",
       "4          03/03/1999  http://books.google.nl/books?id=pFcHAAAACAAJ&d...   \n",
       "...               ...                                                ...   \n",
       "1205             1994  http://books.google.nl/books?id=7XAbAQAAIAAJ&d...   \n",
       "1206             1994  http://books.google.nl/books?id=7XAbAQAAIAAJ&d...   \n",
       "1207             1994  http://books.google.nl/books?id=7XAbAQAAIAAJ&d...   \n",
       "1208             1994  http://books.google.nl/books?id=7XAbAQAAIAAJ&d...   \n",
       "1209             1994  http://books.google.nl/books?id=7XAbAQAAIAAJ&d...   \n",
       "\n",
       "                  Genre  Nb scores  \n",
       "0         ['Computers']        NaN  \n",
       "1         ['Computers']        NaN  \n",
       "2         ['Computers']        NaN  \n",
       "3         ['Computers']        NaN  \n",
       "4         ['Computers']        NaN  \n",
       "...                 ...        ...  \n",
       "1205  ['Short stories']        NaN  \n",
       "1206  ['Short stories']        NaN  \n",
       "1207  ['Short stories']        NaN  \n",
       "1208  ['Short stories']        NaN  \n",
       "1209  ['Short stories']        NaN  \n",
       "\n",
       "[1210 rows x 19 columns]"
      ]
     },
     "execution_count": 7,
     "metadata": {},
     "output_type": "execute_result"
    }
   ],
   "source": [
    "data_valid = pd.read_csv('books_data_reviews.csv')\n",
    "data_valid"
   ]
  },
  {
   "cell_type": "code",
   "execution_count": 8,
   "metadata": {},
   "outputs": [
    {
     "name": "stdout",
     "output_type": "stream",
     "text": [
      "1210\n"
     ]
    },
    {
     "data": {
      "text/plain": [
       "1210"
      ]
     },
     "execution_count": 8,
     "metadata": {},
     "output_type": "execute_result"
    }
   ],
   "source": [
    "data_valid = pd.read_csv('books_data_reviews.csv')\n",
    "print(len(data_valid))\n",
    "data_valid.rename(columns={'revue/score':'rating',\"revue/résumé\":\"summary\",\"revue/texte\":\"comment\"}, inplace=True)\n",
    "data_valid[\"summary\"] = np.where(pd.isnull(data_valid[\"summary\"]), '', data_valid[\"summary\"])\n",
    "data_valid[\"comment\"] = np.where(pd.isnull(data_valid[\"comment\"]), '', data_valid[\"comment\"])\n",
    "len(data_valid)"
   ]
  },
  {
   "cell_type": "markdown",
   "metadata": {},
   "source": [
    "# Cacul des metas attribut"
   ]
  },
  {
   "cell_type": "code",
   "execution_count": 9,
   "metadata": {},
   "outputs": [],
   "source": [
    "#on recharge tous les fichiers json pour verifier\n",
    "with open('titre_info.json', 'r') as fp:\n",
    "    titre_info = json.load(fp)\n",
    "with open('author_data.json', 'r') as fp:\n",
    "    author_data = json.load(fp)\n",
    "with open('genre_data.json', 'r') as fp:\n",
    "    genre_data = json.load(fp)\n",
    "with open('editor_data.json', 'r') as fp:\n",
    "    editor_data = json.load(fp)\n"
   ]
  },
  {
   "cell_type": "code",
   "execution_count": 10,
   "metadata": {},
   "outputs": [],
   "source": [
    "\n",
    "ratings_author, nb_rat_auhtor, ratings_genre, nb_rat_genre, ratings_editor, nb_rat_editor =  get_meta_info(data_valid,titre_info, author_data,genre_data,editor_data)"
   ]
  },
  {
   "cell_type": "code",
   "execution_count": 11,
   "metadata": {},
   "outputs": [],
   "source": [
    "#on rajoute les colonnes dans le dataframe ratings\n",
    "data_valid['auteur_note'] = ratings_author\n",
    "data_valid['auteur_nb'] = nb_rat_auhtor\n",
    "data_valid['genre_note'] = ratings_genre\n",
    "data_valid['genre_nb'] = nb_rat_genre\n",
    "data_valid['editor_note'] = ratings_editor\n",
    "data_valid['editor_nb'] = nb_rat_editor\n"
   ]
  },
  {
   "cell_type": "code",
   "execution_count": 12,
   "metadata": {},
   "outputs": [
    {
     "data": {
      "text/plain": [
       "(1210, 6)"
      ]
     },
     "execution_count": 12,
     "metadata": {},
     "output_type": "execute_result"
    }
   ],
   "source": [
    "X_meta = data_valid[['auteur_note','auteur_nb','genre_note','genre_nb','editor_note','editor_nb']].values\n",
    "\n",
    "X_meta.shape\n"
   ]
  },
  {
   "cell_type": "markdown",
   "metadata": {},
   "source": [
    "# Calcul des embeddings"
   ]
  },
  {
   "cell_type": "code",
   "execution_count": 13,
   "metadata": {},
   "outputs": [],
   "source": [
    "\n",
    "Y_valid_rating = data_valid['rating'].values.astype(int)\n",
    "Y_valid_sentiment = data_valid['rating'].values.astype(int)\n",
    "Y_valid_sentiment[Y_valid_sentiment < 3] = 0\n",
    "Y_valid_sentiment[Y_valid_sentiment == 3] = 1\n",
    "Y_valid_sentiment[Y_valid_sentiment > 3] = 2\n",
    "mode = \"summary\""
   ]
  },
  {
   "cell_type": "markdown",
   "metadata": {},
   "source": [
    "# Embeding"
   ]
  },
  {
   "cell_type": "markdown",
   "metadata": {},
   "source": [
    "## mots simple"
   ]
  },
  {
   "cell_type": "code",
   "execution_count": 14,
   "metadata": {},
   "outputs": [],
   "source": [
    "Freqmodel = joblib.load('freq_model.pkl')"
   ]
  },
  {
   "cell_type": "code",
   "execution_count": 15,
   "metadata": {},
   "outputs": [
    {
     "data": {
      "text/plain": [
       "array([[0, 0, 0, ..., 0, 0, 0],\n",
       "       [0, 0, 0, ..., 0, 0, 0],\n",
       "       [0, 0, 0, ..., 0, 0, 0],\n",
       "       ...,\n",
       "       [0, 0, 0, ..., 0, 0, 0],\n",
       "       [0, 0, 0, ..., 0, 0, 0],\n",
       "       [0, 0, 0, ..., 0, 0, 0]])"
      ]
     },
     "execution_count": 15,
     "metadata": {},
     "output_type": "execute_result"
    }
   ],
   "source": [
    "X_Freq,inutile = get_freq_emmbeddings(list(data_valid[mode].values),model=Freqmodel)\n",
    "X_valid_Freq = np.concatenate((X_meta,X_Freq),axis=1)\n",
    "X_Freq"
   ]
  },
  {
   "cell_type": "markdown",
   "metadata": {},
   "source": [
    "### SKlearn"
   ]
  },
  {
   "cell_type": "code",
   "execution_count": 16,
   "metadata": {},
   "outputs": [
    {
     "name": "stdout",
     "output_type": "stream",
     "text": [
      "[2 2 2 ... 2 2 2]\n",
      "[2 2 2 ... 2 2 2]\n"
     ]
    },
    {
     "data": {
      "text/plain": [
       "0.756198347107438"
      ]
     },
     "execution_count": 16,
     "metadata": {},
     "output_type": "execute_result"
    }
   ],
   "source": [
    "# model sentiment\n",
    "nb_model = joblib.load('freq_gradientboosting.pkl')\n",
    "result=nb_model.predict(X_valid_Freq)\n",
    "print(result)\n",
    "print(Y_valid_sentiment)\n",
    "accuracy_score(result,Y_valid_sentiment)"
   ]
  },
  {
   "cell_type": "code",
   "execution_count": 17,
   "metadata": {},
   "outputs": [
    {
     "name": "stdout",
     "output_type": "stream",
     "text": [
      "[4. 5. 5. ... 5. 5. 5.]\n",
      "[4 4 4 ... 4 5 4]\n"
     ]
    },
    {
     "data": {
      "text/plain": [
       "0.5644628099173554"
      ]
     },
     "execution_count": 17,
     "metadata": {},
     "output_type": "execute_result"
    }
   ],
   "source": [
    "# model rating\n",
    "nb_model = joblib.load('Re_freq_gradientboosting.pkl')\n",
    "result=nb_model.predict(X_valid_Freq)\n",
    "print(result)\n",
    "print(Y_valid_rating)\n",
    "accuracy_score(result,Y_valid_rating)"
   ]
  },
  {
   "cell_type": "markdown",
   "metadata": {},
   "source": [
    "### deep"
   ]
  },
  {
   "cell_type": "markdown",
   "metadata": {},
   "source": [
    "#### sentiment"
   ]
  },
  {
   "cell_type": "code",
   "execution_count": 18,
   "metadata": {},
   "outputs": [],
   "source": [
    "X_valid_Freq = np.concatenate((X_meta,X_Freq),axis=1)\n",
    "batch_size = 128\n",
    "valid_dataset_Freq_sent = TensorDataset(torch.tensor(X_valid_Freq),torch.tensor(Y_valid_sentiment, dtype=torch.long))\n",
    "valid_loader_Freq_sent = DataLoader(valid_dataset_Freq_sent, batch_size=batch_size, shuffle=False)"
   ]
  },
  {
   "cell_type": "code",
   "execution_count": 19,
   "metadata": {},
   "outputs": [
    {
     "data": {
      "text/plain": [
       "<All keys matched successfully>"
      ]
     },
     "execution_count": 19,
     "metadata": {},
     "output_type": "execute_result"
    }
   ],
   "source": [
    "modeldSimple = DEEPmodel_2(input_size=1006, features = [512,512,512,512,256], sub_features =[256,256], nb_class=3)\n",
    "\n",
    "modeldSimple.load_state_dict(torch.load('Deep_freq.pth',map_location=torch.device('cpu')))"
   ]
  },
  {
   "cell_type": "code",
   "execution_count": 20,
   "metadata": {},
   "outputs": [
    {
     "name": "stdout",
     "output_type": "stream",
     "text": [
      "accuracyh valid : 0.7966942148760331\n"
     ]
    }
   ],
   "source": [
    "modeldSimple.eval()\n",
    "with torch.no_grad():\n",
    "    y_pred = []\n",
    "    for i, (x, y) in enumerate(valid_loader_Freq_sent):\n",
    "        x = x.float()  \n",
    "        y_pred_batch = modeldSimple(x).argmax(1)\n",
    "        y_pred.append(y_pred_batch)  # Move to CPU for evaluation\n",
    "    \n",
    "    y_pred = torch.cat(y_pred)\n",
    "acc_valid = accuracy_score(Y_valid_sentiment, y_pred.numpy())\n",
    "print(\"accuracyh valid :\", acc_valid)"
   ]
  },
  {
   "cell_type": "markdown",
   "metadata": {},
   "source": [
    "#### reting"
   ]
  },
  {
   "cell_type": "code",
   "execution_count": 21,
   "metadata": {},
   "outputs": [],
   "source": [
    "X_valid_Freq = np.concatenate((X_meta,X_Freq),axis=1)\n",
    "batch_size = 128\n",
    "valid_dataset_Freq_sent = TensorDataset(torch.tensor(X_valid_Freq),torch.tensor(Y_valid_rating, dtype=torch.long))\n",
    "valid_loader_Freq_sent = DataLoader(valid_dataset_Freq_sent, batch_size=batch_size, shuffle=False)"
   ]
  },
  {
   "cell_type": "code",
   "execution_count": 22,
   "metadata": {},
   "outputs": [
    {
     "data": {
      "text/plain": [
       "<All keys matched successfully>"
      ]
     },
     "execution_count": 22,
     "metadata": {},
     "output_type": "execute_result"
    }
   ],
   "source": [
    "modeldSimple = DEEPmodel_2(input_size=1006, features = [512,512,512,512,256], sub_features =[256,256], nb_class=5)\n",
    "\n",
    "modeldSimple.load_state_dict(torch.load('RE_Deep_freq.pth',map_location=torch.device('cpu')))"
   ]
  },
  {
   "cell_type": "code",
   "execution_count": 23,
   "metadata": {},
   "outputs": [
    {
     "name": "stdout",
     "output_type": "stream",
     "text": [
      "accuracyh valid : 0.5991735537190083\n"
     ]
    }
   ],
   "source": [
    "modeldSimple.eval()\n",
    "with torch.no_grad():\n",
    "    y_pred = []\n",
    "    for i, (x, y) in enumerate(valid_loader_Freq_sent):\n",
    "        x = x.float()  \n",
    "        y_pred_batch = modeldSimple(x).argmax(1)\n",
    "        y_pred.append(y_pred_batch)  # Move to CPU for evaluation\n",
    "    \n",
    "    y_pred = torch.cat(y_pred)\n",
    "acc_valid = accuracy_score(Y_valid_rating-1, y_pred.numpy())\n",
    "print(\"accuracyh valid :\", acc_valid)"
   ]
  },
  {
   "cell_type": "markdown",
   "metadata": {},
   "source": [
    "## tf idf"
   ]
  },
  {
   "cell_type": "code",
   "execution_count": 24,
   "metadata": {},
   "outputs": [],
   "source": [
    "idfmodel = joblib.load('tfidf_model.pkl')"
   ]
  },
  {
   "cell_type": "code",
   "execution_count": 25,
   "metadata": {},
   "outputs": [
    {
     "data": {
      "text/plain": [
       "array([[0., 0., 0., ..., 0., 0., 0.],\n",
       "       [0., 0., 0., ..., 0., 0., 0.],\n",
       "       [0., 0., 0., ..., 0., 0., 0.],\n",
       "       ...,\n",
       "       [0., 0., 0., ..., 0., 0., 0.],\n",
       "       [0., 0., 0., ..., 0., 0., 0.],\n",
       "       [0., 0., 0., ..., 0., 0., 0.]])"
      ]
     },
     "execution_count": 25,
     "metadata": {},
     "output_type": "execute_result"
    }
   ],
   "source": [
    "X_idf,inutile = get_tf_idfs_emmbeddings(list(data_valid[mode].values),model=idfmodel)\n",
    "X_valid_idf = np.concatenate((X_meta,X_idf),axis=1)\n",
    "X_idf"
   ]
  },
  {
   "cell_type": "markdown",
   "metadata": {},
   "source": [
    "### Sklearn"
   ]
  },
  {
   "cell_type": "code",
   "execution_count": 26,
   "metadata": {},
   "outputs": [
    {
     "name": "stdout",
     "output_type": "stream",
     "text": [
      "[2 2 2 ... 2 2 2]\n",
      "[2 2 2 ... 2 2 2]\n"
     ]
    },
    {
     "data": {
      "text/plain": [
       "0.759504132231405"
      ]
     },
     "execution_count": 26,
     "metadata": {},
     "output_type": "execute_result"
    }
   ],
   "source": [
    "# Charger le modèle\n",
    "nb_model = joblib.load('idf_gradientboosting.pkl')\n",
    "result=nb_model.predict(X_valid_idf)\n",
    "print(result)\n",
    "print(Y_valid_sentiment)\n",
    "accuracy_score(result,Y_valid_sentiment)"
   ]
  },
  {
   "cell_type": "code",
   "execution_count": 27,
   "metadata": {},
   "outputs": [
    {
     "name": "stdout",
     "output_type": "stream",
     "text": [
      "[4. 5. 5. ... 5. 5. 5.]\n",
      "[4 4 4 ... 4 5 4]\n"
     ]
    },
    {
     "data": {
      "text/plain": [
       "0.5636363636363636"
      ]
     },
     "execution_count": 27,
     "metadata": {},
     "output_type": "execute_result"
    }
   ],
   "source": [
    "# model rating\n",
    "nb_model = joblib.load('Re_idf_gradientboosting.pkl')\n",
    "result=nb_model.predict(X_valid_Freq)\n",
    "print(result)\n",
    "print(Y_valid_rating)\n",
    "accuracy_score(result,Y_valid_rating)"
   ]
  },
  {
   "cell_type": "markdown",
   "metadata": {},
   "source": [
    "### deep"
   ]
  },
  {
   "cell_type": "markdown",
   "metadata": {},
   "source": [
    "#### sentiment"
   ]
  },
  {
   "cell_type": "code",
   "execution_count": 28,
   "metadata": {},
   "outputs": [],
   "source": [
    "batch_size = 128\n",
    "valid_dataset_idf_sent = TensorDataset(torch.tensor(X_valid_idf),torch.tensor(Y_valid_sentiment, dtype=torch.long))\n",
    "valid_loader_idf_sent = DataLoader(valid_dataset_idf_sent, batch_size=batch_size, shuffle=False)"
   ]
  },
  {
   "cell_type": "code",
   "execution_count": 29,
   "metadata": {},
   "outputs": [
    {
     "data": {
      "text/plain": [
       "<All keys matched successfully>"
      ]
     },
     "execution_count": 29,
     "metadata": {},
     "output_type": "execute_result"
    }
   ],
   "source": [
    "modeldidf = DEEPmodel_2(input_size=1006, features = [512,512,512,512,256], sub_features =[256,256], nb_class=3)\n",
    "modeldidf.load_state_dict(torch.load('Deep_idf.pth',map_location=torch.device('cpu')))"
   ]
  },
  {
   "cell_type": "code",
   "execution_count": 30,
   "metadata": {},
   "outputs": [
    {
     "name": "stdout",
     "output_type": "stream",
     "text": [
      "accuracyh valid : 0.7958677685950413\n"
     ]
    }
   ],
   "source": [
    "modeldidf.eval()\n",
    "with torch.no_grad():\n",
    "    y_pred = []\n",
    "    for i, (x, y) in enumerate(valid_loader_idf_sent):\n",
    "        x = x.float()  \n",
    "        y_pred_batch = modeldidf(x).argmax(1)\n",
    "        y_pred.append(y_pred_batch)  # Move to CPU for evaluation\n",
    "    \n",
    "    y_pred = torch.cat(y_pred)\n",
    "acc_valid = accuracy_score(Y_valid_sentiment, y_pred.numpy())\n",
    "print(\"accuracyh valid :\", acc_valid)"
   ]
  },
  {
   "cell_type": "markdown",
   "metadata": {},
   "source": [
    "#### rating"
   ]
  },
  {
   "cell_type": "code",
   "execution_count": 31,
   "metadata": {},
   "outputs": [],
   "source": [
    "batch_size = 128\n",
    "valid_dataset_idf_sent = TensorDataset(torch.tensor(X_valid_idf),torch.tensor(Y_valid_rating, dtype=torch.long))\n",
    "valid_loader_idf_sent = DataLoader(valid_dataset_idf_sent, batch_size=batch_size, shuffle=False)"
   ]
  },
  {
   "cell_type": "code",
   "execution_count": 32,
   "metadata": {},
   "outputs": [
    {
     "data": {
      "text/plain": [
       "<All keys matched successfully>"
      ]
     },
     "execution_count": 32,
     "metadata": {},
     "output_type": "execute_result"
    }
   ],
   "source": [
    "modeldidf = DEEPmodel_2(input_size=1006, features = [512,512,512,512,256], sub_features =[256,256], nb_class=5)\n",
    "modeldidf.load_state_dict(torch.load('Re_Deep_idf.pth',map_location=torch.device('cpu')))"
   ]
  },
  {
   "cell_type": "code",
   "execution_count": 33,
   "metadata": {},
   "outputs": [
    {
     "name": "stdout",
     "output_type": "stream",
     "text": [
      "accuracyh valid : 0.5991735537190083\n"
     ]
    }
   ],
   "source": [
    "modeldSimple.eval()\n",
    "with torch.no_grad():\n",
    "    y_pred = []\n",
    "    for i, (x, y) in enumerate(valid_loader_Freq_sent):\n",
    "        x = x.float()  \n",
    "        y_pred_batch = modeldSimple(x).argmax(1)\n",
    "        y_pred.append(y_pred_batch)  # Move to CPU for evaluation\n",
    "    \n",
    "    y_pred = torch.cat(y_pred)\n",
    "acc_valid = accuracy_score(Y_valid_rating-1, y_pred.numpy())\n",
    "print(\"accuracyh valid :\", acc_valid)"
   ]
  },
  {
   "cell_type": "markdown",
   "metadata": {},
   "source": [
    "## bert"
   ]
  },
  {
   "cell_type": "code",
   "execution_count": 34,
   "metadata": {},
   "outputs": [
    {
     "name": "stdout",
     "output_type": "stream",
     "text": [
      "**********\n"
     ]
    }
   ],
   "source": [
    "X_bert = get_bert_embeddings(list(data_valid[mode].values)).numpy()\n",
    "X_valid_bert = np.concatenate((X_meta,X_bert),axis=1)"
   ]
  },
  {
   "cell_type": "markdown",
   "metadata": {},
   "source": [
    "### SKlearn"
   ]
  },
  {
   "cell_type": "code",
   "execution_count": 35,
   "metadata": {},
   "outputs": [
    {
     "name": "stdout",
     "output_type": "stream",
     "text": [
      "[1 2 2 ... 2 2 2]\n",
      "[2 2 2 ... 2 2 2]\n"
     ]
    },
    {
     "data": {
      "text/plain": [
       "0.7966942148760331"
      ]
     },
     "execution_count": 35,
     "metadata": {},
     "output_type": "execute_result"
    }
   ],
   "source": [
    "# Charger le modèle\n",
    "nb_model = joblib.load('bert_gradientboosting.pkl')\n",
    "result=nb_model.predict(X_valid_bert)\n",
    "print(result)\n",
    "print(Y_valid_sentiment)\n",
    "accuracy_score(result,Y_valid_sentiment)\n"
   ]
  },
  {
   "cell_type": "markdown",
   "metadata": {},
   "source": [
    "### deep"
   ]
  },
  {
   "cell_type": "code",
   "execution_count": 36,
   "metadata": {},
   "outputs": [],
   "source": [
    "\n",
    "batch_size = 128\n",
    "valid_dataset_bert_sent = TensorDataset(torch.tensor(X_valid_bert),torch.tensor(Y_valid_sentiment, dtype=torch.long))\n",
    "valid_loader_bert_sent = DataLoader(valid_dataset_bert_sent, batch_size=batch_size, shuffle=False)"
   ]
  },
  {
   "cell_type": "code",
   "execution_count": 37,
   "metadata": {},
   "outputs": [
    {
     "data": {
      "text/plain": [
       "<All keys matched successfully>"
      ]
     },
     "execution_count": 37,
     "metadata": {},
     "output_type": "execute_result"
    }
   ],
   "source": [
    "model = DEEPmodel_2(input_size=774, features = [512,512,512,512,256], sub_features =[256,256], nb_class=3)\n",
    "model.load_state_dict(torch.load('Deep_bert.pth',map_location=torch.device('cpu')))"
   ]
  },
  {
   "cell_type": "code",
   "execution_count": 38,
   "metadata": {},
   "outputs": [
    {
     "name": "stdout",
     "output_type": "stream",
     "text": [
      "accuracyh valid : 0.8487603305785124\n"
     ]
    }
   ],
   "source": [
    "model.eval()\n",
    "with torch.no_grad():\n",
    "    y_pred = []\n",
    "    for i, (x, y) in enumerate(valid_loader_bert_sent):\n",
    "        x = x.float()  \n",
    "        y_pred_batch = model(x).argmax(1)\n",
    "        y_pred.append(y_pred_batch)  # Move to CPU for evaluation\n",
    "    \n",
    "    y_pred = torch.cat(y_pred)\n",
    "acc_valid = accuracy_score(Y_valid_sentiment, y_pred.numpy())\n",
    "print(\"accuracyh valid :\", acc_valid)"
   ]
  },
  {
   "cell_type": "markdown",
   "metadata": {},
   "source": []
  }
 ],
 "metadata": {
  "kernelspec": {
   "display_name": "Python 3",
   "language": "python",
   "name": "python3"
  },
  "language_info": {
   "codemirror_mode": {
    "name": "ipython",
    "version": 3
   },
   "file_extension": ".py",
   "mimetype": "text/x-python",
   "name": "python",
   "nbconvert_exporter": "python",
   "pygments_lexer": "ipython3",
   "version": "3.9.7"
  }
 },
 "nbformat": 4,
 "nbformat_minor": 2
}
